{
 "cells": [
  {
   "cell_type": "code",
   "execution_count": 5,
   "id": "fe96a169",
   "metadata": {},
   "outputs": [],
   "source": [
    "import pandas as pd\n",
    "from matplotlib import pyplot as plt\n",
    "\n",
    "import gffpandas.gffpandas as gffpd\n",
    "\n",
    "import pandas as pd\n",
    "from pandas.core.common import SettingWithCopyWarning\n",
    "import gseapy as gp\n",
    "import warnings\n",
    "\n",
    "import numpy as np\n",
    "from gseapy.plot import barplot, dotplot\n",
    "from matplotlib import pyplot as plt \n",
    "\n",
    "\n",
    "warnings.simplefilter(action=\"ignore\", category=SettingWithCopyWarning)"
   ]
  },
  {
   "cell_type": "code",
   "execution_count": 51,
   "id": "fc6f97e6",
   "metadata": {},
   "outputs": [],
   "source": [
    "l = -np.log10(0.05)\n",
    "\n",
    "def get_df(database, genelist, background):\n",
    "    enr = gp.enrichr(gene_list=genelist ,\n",
    "        gene_sets=database,\n",
    "        background = background,  \n",
    "        outdir=None,\n",
    "        cutoff=0.5,                          \n",
    "     )\n",
    "    return enr\n",
    "\n",
    "def plot(df, name, type1):\n",
    "    path = '/vggpfs/fs3/vgl/store/adenisova/data/innovation/branch_analysis/test_october/test_gerp/coursework_results/'\n",
    "    #plt.rcParams.update({'font.size': 3})\n",
    "    n_terms = (df['Adjusted P-value']<=0.05).sum()\n",
    "    plt.figure(figsize=(n_terms, 10))\n",
    "    barplot(df,title= name, \n",
    "            top_term=n_terms, \n",
    "            cutoff=0.05,\n",
    "            color = 'r',\n",
    "            figsize=(10,n_terms//2))\n",
    "    plt.plot([l,l],[-1, n_terms], linestyle = '--',color='k', label = '- log10(0.05)')\n",
    "    plt.savefig(f'{path}GO_pics/{name}_{type1}.png')\n"
   ]
  },
  {
   "cell_type": "code",
   "execution_count": 52,
   "id": "ede5a873",
   "metadata": {},
   "outputs": [],
   "source": [
    "#from statsmodels.sandbox.stats.multicomp import multipletests\n",
    "names2 = ['GO Biological Process', 'GO Molecular Function', 'GO Cellular Process', 'GO Biological Process']\n",
    "\n",
    "path = '/vggpfs/fs3/vgl/store/adenisova/data/innovation/branch_analysis/test_october/test_gerp/coursework_results/GO_terms_results/'#'/Users/aleksandradenisova/Desktop/coursework/'\n",
    "names = ['go_BP', 'go_MF', 'go_CC', 'go_reactome']\n",
    "#proc = [go_BP, go_MF, go_CC, go_reactome]\n",
    "\n",
    "for nim in range(4):\n",
    "    df = pd.read_csv(f'{path}permutations_n_terms_'+names[nim]+'_new2.csv', low_memory=False)\n",
    "    df_T = df[df.columns[6:]].T\n",
    "\n",
    "    df = df.sort_values(by = 'Adjusted P-value')\n",
    "    df['less'] = (df_T <= df_T.iloc[0]).sum(axis=0)\n",
    "    df['p_val_perm'] = df['less']/35\n",
    "\n",
    "    df[['Term','Adjusted P-value','p_val_perm', 'less', 'Overlap','Odds Ratio', 'Genes',\n",
    "           '2', '3', '4', '5', '6', '7', '8', '9', '10', '11',\n",
    "           '12', '13', '14', '15', '16', '17', '18', '19', '20', '21', '22', '23',\n",
    "           '24', '25', '26', '27', '28', '29', '30', '31', '32', '33', '34', '35']].sort_values(by = 'Adjusted P-value').to_csv(f'{path}permutations_n_terms_'+names[nim]+'_perm.csv', index = False)\n",
    "\n",
    "    name = names[nim]\n",
    "\n",
    "    plot(df, names2[nim], 'before_perm')\n",
    "    plot(df[df['p_val_perm']<=0.05], names2[nim], 'perm')\n",
    "\n",
    "    \n",
    "# plot(df[df['p_val_perm']<=0.05], name)"
   ]
  }
 ],
 "metadata": {
  "kernelspec": {
   "display_name": "Python 3 (ipykernel)",
   "language": "python",
   "name": "python3"
  },
  "language_info": {
   "codemirror_mode": {
    "name": "ipython",
    "version": 3
   },
   "file_extension": ".py",
   "mimetype": "text/x-python",
   "name": "python",
   "nbconvert_exporter": "python",
   "pygments_lexer": "ipython3",
   "version": "3.9.12"
  },
  "vscode": {
   "interpreter": {
    "hash": "bde5734f453f07c7e803eda2dc8899d391ad6018f316c4f0956e2dfc28db0e73"
   }
  }
 },
 "nbformat": 4,
 "nbformat_minor": 5
}
