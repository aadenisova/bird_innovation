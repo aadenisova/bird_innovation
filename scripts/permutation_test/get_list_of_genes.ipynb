{
 "cells": [
  {
   "cell_type": "code",
   "execution_count": 2,
   "id": "33522e48",
   "metadata": {},
   "outputs": [],
   "source": [
    "import pandas as pd\n",
    "\n",
    "PATH_TO_DATA='/Users/aleksandradenisova/Desktop/coursework/data/'"
   ]
  },
  {
   "cell_type": "code",
   "execution_count": 17,
   "id": "35340a47",
   "metadata": {},
   "outputs": [],
   "source": [
    "for num in range(1,36):\n",
    "    df_genes = pd.read_csv(f'{PATH_TO_DATA}final_data/permutation_anno/positions_for_8_{num}.vcf.txt', \n",
    "                sep = '\\t', \n",
    "                skiprows=1, \n",
    "    )\n",
    "    file = open(f'{PATH_TO_DATA}/final_data/dir_gene_list/gene_list_{num}.txt', 'w')\n",
    "    file.write('\\n'.join(df_genes['GeneId'].unique().tolist()))\n",
    "    file.close()"
   ]
  }
 ],
 "metadata": {
  "kernelspec": {
   "display_name": "Python 3 (ipykernel)",
   "language": "python",
   "name": "python3"
  },
  "language_info": {
   "codemirror_mode": {
    "name": "ipython",
    "version": 3
   },
   "file_extension": ".py",
   "mimetype": "text/x-python",
   "name": "python",
   "nbconvert_exporter": "python",
   "pygments_lexer": "ipython3",
   "version": "3.9.12"
  }
 },
 "nbformat": 4,
 "nbformat_minor": 5
}
