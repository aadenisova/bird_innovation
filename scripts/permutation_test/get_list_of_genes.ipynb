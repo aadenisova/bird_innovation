{
 "cells": [
  {
   "cell_type": "code",
   "execution_count": 2,
   "id": "33522e48",
   "metadata": {},
   "outputs": [],
   "source": [
    "import pandas as pd\n",
    "\n",
    "PATH_TO_DATA='/Users/aleksandradenisova/Desktop/coursework/data/'"
   ]
  },
  {
   "cell_type": "code",
   "execution_count": null,
   "id": "b4737834",
   "metadata": {},
   "outputs": [],
   "source": [
    "for num in range(1,36):\n",
    "    df_ann = pd.read_csv(f'{PATH_TO_DATA}final_data/permutation_anno/positions_for_8_{num}.vcf.ann', \n",
    "                         skiprows=6, sep = '\\t', names = ['#CHROM', 'POS', 'ID', 'REF', 'ALT', 'FILTER', 'smth','INFO'])\n",
    "\n",
    "    df_ann['type'] = df_ann['INFO'].apply(lambda x: x.split(';')[0])\n",
    "    df_ann['INFO'] = df_ann['INFO'].apply(lambda x: x.split(';')[1])\n",
    "    df_ann['gene_name'] = df_ann['INFO'].apply(lambda x: x.split('|')[3])\n",
    "\n",
    "    df_with_ann = df_ann[['type','gene_name']]\n",
    "    df_with_ann\n",
    "\n",
    "    types = ['cons', 'inno', 'non_inno']\n",
    "    for i in range(3):\n",
    "        genes = df_with_ann[df_with_ann['type'] == types[i]]['gene_name'].unique().tolist()\n",
    "\n",
    "        file = open(f'{PATH_TO_DATA}/final_data/dir_gene_list_{types[i]}/gene_list_{num}.txt', 'w')\n",
    "        file.write('\\n'.join(genes))\n",
    "        file.close()"
   ]
  },
  {
   "cell_type": "code",
   "execution_count": null,
   "id": "e6a213e7",
   "metadata": {},
   "outputs": [],
   "source": []
  },
  {
   "cell_type": "code",
   "execution_count": 33,
   "id": "0ef214d6",
   "metadata": {},
   "outputs": [],
   "source": [
    "df_genes = pd.read_csv(f'{PATH_TO_DATA}final_data/permutation_anno/positions_for_8_{num}.vcf.txt', \n",
    "                sep = '\\t', \n",
    "                skiprows=1, \n",
    "    )\n",
    "genes = df_genes['GeneId'].unique().tolist()"
   ]
  },
  {
   "cell_type": "code",
   "execution_count": 34,
   "id": "35340a47",
   "metadata": {},
   "outputs": [],
   "source": [
    "for num in range(1,36):\n",
    "    df_genes = pd.read_csv(f'{PATH_TO_DATA}final_data/permutation_anno/positions_for_8_{num}.vcf.txt', \n",
    "                sep = '\\t', \n",
    "                skiprows=1, \n",
    "    )\n",
    "    file = open(f'{PATH_TO_DATA}/final_data/dir_gene_list/gene_list_{num}.txt', 'w')\n",
    "    file.write('\\n'.join(df_genes['GeneId'].unique().tolist()))\n",
    "    file.close()"
   ]
  },
  {
   "cell_type": "code",
   "execution_count": null,
   "id": "b2a4196c",
   "metadata": {},
   "outputs": [],
   "source": []
  }
 ],
 "metadata": {
  "kernelspec": {
   "display_name": "Python 3 (ipykernel)",
   "language": "python",
   "name": "python3"
  },
  "language_info": {
   "codemirror_mode": {
    "name": "ipython",
    "version": 3
   },
   "file_extension": ".py",
   "mimetype": "text/x-python",
   "name": "python",
   "nbconvert_exporter": "python",
   "pygments_lexer": "ipython3",
   "version": "3.9.12"
  }
 },
 "nbformat": 4,
 "nbformat_minor": 5
}
